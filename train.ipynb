{
 "cells": [
  {
   "cell_type": "code",
   "execution_count": 62,
   "outputs": [],
   "source": [
    "import numpy as np\n",
    "import os\n",
    "import PIL\n",
    "import PIL.Image\n",
    "import tensorflow as tf\n",
    "# import tensorflow_datasets as tfds\n",
    "import pandas as pd\n",
    "\n",
    "tf.random.set_seed(29)"
   ],
   "metadata": {
    "collapsed": false
   }
  },
  {
   "cell_type": "code",
   "execution_count": 63,
   "outputs": [],
   "source": [
    "import scipy\n",
    "from tensorflow.keras.preprocessing.image import ImageDataGenerator"
   ],
   "metadata": {
    "collapsed": false
   }
  },
  {
   "cell_type": "code",
   "execution_count": 64,
   "outputs": [
    {
     "data": {
      "text/plain": "     Id  label         filename imagename\n0  0560  glass  images/0560.jpg  0560.jpg\n1  4675    cup  images/4675.jpg  4675.jpg\n2  0875  glass  images/0875.jpg  0875.jpg\n3  4436  spoon  images/4436.jpg  4436.jpg\n4  8265  plate  images/8265.jpg  8265.jpg",
      "text/html": "<div>\n<style scoped>\n    .dataframe tbody tr th:only-of-type {\n        vertical-align: middle;\n    }\n\n    .dataframe tbody tr th {\n        vertical-align: top;\n    }\n\n    .dataframe thead th {\n        text-align: right;\n    }\n</style>\n<table border=\"1\" class=\"dataframe\">\n  <thead>\n    <tr style=\"text-align: right;\">\n      <th></th>\n      <th>Id</th>\n      <th>label</th>\n      <th>filename</th>\n      <th>imagename</th>\n    </tr>\n  </thead>\n  <tbody>\n    <tr>\n      <th>0</th>\n      <td>0560</td>\n      <td>glass</td>\n      <td>images/0560.jpg</td>\n      <td>0560.jpg</td>\n    </tr>\n    <tr>\n      <th>1</th>\n      <td>4675</td>\n      <td>cup</td>\n      <td>images/4675.jpg</td>\n      <td>4675.jpg</td>\n    </tr>\n    <tr>\n      <th>2</th>\n      <td>0875</td>\n      <td>glass</td>\n      <td>images/0875.jpg</td>\n      <td>0875.jpg</td>\n    </tr>\n    <tr>\n      <th>3</th>\n      <td>4436</td>\n      <td>spoon</td>\n      <td>images/4436.jpg</td>\n      <td>4436.jpg</td>\n    </tr>\n    <tr>\n      <th>4</th>\n      <td>8265</td>\n      <td>plate</td>\n      <td>images/8265.jpg</td>\n      <td>8265.jpg</td>\n    </tr>\n  </tbody>\n</table>\n</div>"
     },
     "execution_count": 64,
     "metadata": {},
     "output_type": "execute_result"
    }
   ],
   "source": [
    "df = pd.read_csv('train.csv', dtype={'Id': str})\n",
    "df['filename'] = 'images/' + df['Id'] + '.jpg'\n",
    "df['imagename'] = df['Id'] + '.jpg'\n",
    "df.head()"
   ],
   "metadata": {
    "collapsed": false
   }
  },
  {
   "cell_type": "code",
   "execution_count": 65,
   "outputs": [],
   "source": [
    "train_cutoff = int(len(df) * 0.6)\n",
    "full_train_cutoff = int(len(df) * 0.8)\n",
    "\n",
    "train_df = df[:train_cutoff]\n",
    "val_df = df[train_cutoff:full_train_cutoff]\n",
    "test_df = df[full_train_cutoff:]"
   ],
   "metadata": {
    "collapsed": false
   }
  },
  {
   "cell_type": "code",
   "execution_count": 66,
   "outputs": [
    {
     "name": "stdout",
     "output_type": "stream",
     "text": [
      "Found 3335 validated image filenames belonging to 6 classes.\n",
      "Found 1112 validated image filenames belonging to 6 classes.\n"
     ]
    }
   ],
   "source": [
    "train_datagen = ImageDataGenerator()\n",
    "\n",
    "train_generator = train_datagen.flow_from_dataframe(\n",
    "    train_df,\n",
    "    x_col='filename',\n",
    "    y_col='label',\n",
    "    target_size=(256, 256),\n",
    "    batch_size=16,\n",
    ")\n",
    "\n",
    "val_datagen = ImageDataGenerator()\n",
    "\n",
    "val_generator = val_datagen.flow_from_dataframe(\n",
    "    val_df,\n",
    "    x_col='filename',\n",
    "    y_col='label',\n",
    "    target_size=(256, 256),\n",
    "    batch_size=16,\n",
    ")"
   ],
   "metadata": {
    "collapsed": false
   }
  },
  {
   "cell_type": "code",
   "execution_count": 67,
   "outputs": [],
   "source": [
    "num_classes = 6\n",
    "\n",
    "data_augmentation = tf.keras.Sequential([\n",
    "  tf.keras.layers.RandomRotation(0.5),\n",
    "  tf.keras.layers.RandomZoom(0.5),\n",
    "  tf.keras.layers.RandomContrast(0.5),\n",
    "  tf.keras.layers.RandomBrightness(0.5)\n",
    "])\n",
    "\n",
    "\n",
    "model = tf.keras.models.Sequential([\n",
    "  tf.keras.Input(shape=(256, 256, 3)),\n",
    "  tf.keras.layers.Rescaling(1./255),\n",
    "  tf.keras.layers.Conv2D(8, kernel_size=(3, 3), activation='relu'),\n",
    "  tf.keras.layers.MaxPooling2D(pool_size=(2, 2)),\n",
    "  tf.keras.layers.Conv2D(16, kernel_size=(3, 3), activation='relu'),\n",
    "  tf.keras.layers.MaxPooling2D(pool_size=(2, 2)),\n",
    "  tf.keras.layers.Flatten(),\n",
    "  tf.keras.layers.Dense(64, activation='relu'),\n",
    "\n",
    "  tf.keras.layers.Dense(num_classes)\n",
    "])"
   ],
   "metadata": {
    "collapsed": false
   }
  },
  {
   "cell_type": "code",
   "execution_count": 68,
   "outputs": [
    {
     "name": "stdout",
     "output_type": "stream",
     "text": [
      "Model: \"sequential_13\"\n",
      "_________________________________________________________________\n",
      " Layer (type)                Output Shape              Param #   \n",
      "=================================================================\n",
      " rescaling_6 (Rescaling)     (None, 256, 256, 3)       0         \n",
      "                                                                 \n",
      " conv2d_12 (Conv2D)          (None, 254, 254, 8)       224       \n",
      "                                                                 \n",
      " max_pooling2d_12 (MaxPoolin  (None, 127, 127, 8)      0         \n",
      " g2D)                                                            \n",
      "                                                                 \n",
      " conv2d_13 (Conv2D)          (None, 125, 125, 16)      1168      \n",
      "                                                                 \n",
      " max_pooling2d_13 (MaxPoolin  (None, 62, 62, 16)       0         \n",
      " g2D)                                                            \n",
      "                                                                 \n",
      " flatten_6 (Flatten)         (None, 61504)             0         \n",
      "                                                                 \n",
      " dense_12 (Dense)            (None, 64)                3936320   \n",
      "                                                                 \n",
      " dense_13 (Dense)            (None, 6)                 390       \n",
      "                                                                 \n",
      "=================================================================\n",
      "Total params: 3,938,102\n",
      "Trainable params: 3,938,102\n",
      "Non-trainable params: 0\n",
      "_________________________________________________________________\n"
     ]
    }
   ],
   "source": [
    "model.summary()"
   ],
   "metadata": {
    "collapsed": false
   }
  },
  {
   "cell_type": "code",
   "execution_count": 69,
   "outputs": [],
   "source": [
    "model.compile(\n",
    "  optimizer='adam',\n",
    "  loss=tf.keras.losses.CategoricalCrossentropy(from_logits=True),\n",
    "  metrics=['accuracy']\n",
    ")"
   ],
   "metadata": {
    "collapsed": false
   }
  },
  {
   "cell_type": "code",
   "execution_count": 70,
   "outputs": [
    {
     "name": "stdout",
     "output_type": "stream",
     "text": [
      "Epoch 1/4\n",
      "209/209 [==============================] - 70s 330ms/step - loss: 1.6228 - accuracy: 0.3586 - val_loss: 1.4155 - val_accuracy: 0.4424\n",
      "Epoch 2/4\n",
      "209/209 [==============================] - 69s 331ms/step - loss: 1.0971 - accuracy: 0.5943 - val_loss: 1.1121 - val_accuracy: 0.5845\n",
      "Epoch 3/4\n",
      "209/209 [==============================] - 81s 389ms/step - loss: 0.6172 - accuracy: 0.7889 - val_loss: 1.2205 - val_accuracy: 0.5638\n",
      "Epoch 4/4\n",
      "209/209 [==============================] - 77s 367ms/step - loss: 0.2840 - accuracy: 0.9160 - val_loss: 1.2571 - val_accuracy: 0.5998\n"
     ]
    }
   ],
   "source": [
    "from keras.callbacks import EarlyStopping\n",
    "\n",
    "# early_stopping = EarlyStopping(monitor='val_loss', min_delta=0, patience=5, mode='min')\n",
    "\n",
    "history = model.fit(\n",
    "  train_generator,\n",
    "  validation_data=val_generator,\n",
    "  epochs=4,\n",
    "  # callbacks=[early_stopping]\n",
    ")"
   ],
   "metadata": {
    "collapsed": false
   }
  },
  {
   "cell_type": "code",
   "execution_count": 71,
   "outputs": [
    {
     "name": "stdout",
     "output_type": "stream",
     "text": [
      "Found 1112 validated image filenames belonging to 6 classes.\n"
     ]
    }
   ],
   "source": [
    "test_datagen = ImageDataGenerator()\n",
    "\n",
    "test_generator = val_datagen.flow_from_dataframe(\n",
    "    test_df,\n",
    "    x_col='filename',\n",
    "    y_col='label',\n",
    "    target_size=(256, 256),\n",
    "    batch_size=16,\n",
    ")"
   ],
   "metadata": {
    "collapsed": false
   }
  },
  {
   "cell_type": "code",
   "execution_count": 72,
   "outputs": [
    {
     "name": "stderr",
     "output_type": "stream",
     "text": [
      "/var/folders/04/sr5x2zqn3rn38vjxrzd96c040000gn/T/ipykernel_55692/2236055841.py:1: UserWarning: `Model.evaluate_generator` is deprecated and will be removed in a future version. Please use `Model.evaluate`, which supports generators.\n",
      "  results = model.evaluate_generator(test_generator)\n"
     ]
    },
    {
     "name": "stdout",
     "output_type": "stream",
     "text": [
      "test loss, test acc: [1.2736963033676147, 0.6097122430801392]\n"
     ]
    }
   ],
   "source": [
    "results = model.evaluate_generator(test_generator)\n",
    "print(\"test loss, test acc:\", results)"
   ],
   "metadata": {
    "collapsed": false
   }
  },
  {
   "cell_type": "code",
   "execution_count": 73,
   "outputs": [
    {
     "data": {
      "text/plain": "<matplotlib.legend.Legend at 0x7fae9b30de80>"
     },
     "execution_count": 73,
     "metadata": {},
     "output_type": "execute_result"
    },
    {
     "data": {
      "text/plain": "<Figure size 640x480 with 1 Axes>",
      "image/png": "[encoded data removed]"
     },
     "metadata": {},
     "output_type": "display_data"
    }
   ],
   "source": [
    "import matplotlib.pyplot as plt\n",
    "\n",
    "plt.plot(history.history['accuracy'], label='accuracy')\n",
    "plt.plot(history.history['val_accuracy'], label = 'val_accuracy')\n",
    "plt.xlabel('Epoch')\n",
    "plt.ylabel('Accuracy')\n",
    "plt.ylim([0.5, 1])\n",
    "plt.legend(loc='lower right')"
   ],
   "metadata": {
    "collapsed": false
   }
  }
 ],
 "metadata": {
  "kernelspec": {
   "display_name": "Python 3",
   "language": "python",
   "name": "python3"
  },
  "language_info": {
   "codemirror_mode": {
    "name": "ipython",
    "version": 2
   },
   "file_extension": ".py",
   "mimetype": "text/x-python",
   "name": "python",
   "nbconvert_exporter": "python",
   "pygments_lexer": "ipython2",
   "version": "2.7.6"
  }
 },
 "nbformat": 4,
 "nbformat_minor": 0
}
